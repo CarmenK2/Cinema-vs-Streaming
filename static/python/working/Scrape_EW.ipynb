{
 "cells": [
  {
   "cell_type": "code",
   "execution_count": 3,
   "metadata": {},
   "outputs": [],
   "source": [
    "# import dependencies\n",
    "import pandas as pd\n",
    "import requests\n",
    "from flask import Flask, render_template, redirect\n",
    "from flask_pymongo import PyMongo\n",
    "import pymongo\n",
    "from bson.json_util import dumps"
   ]
  },
  {
   "cell_type": "markdown",
   "metadata": {},
   "source": [
    "### WEB SCRAPE YEARLY BOX OFFICE\n",
    "Get the number of releases per year and their average box office"
   ]
  },
  {
   "cell_type": "code",
   "execution_count": 11,
   "metadata": {},
   "outputs": [],
   "source": [
    "#Scrape usign request to get html of page\n",
    "page = requests.get('https://www.boxofficemojo.com/year/?ref_=bo_nb_di_secondarytab')\n",
    "b = page.content\n",
    "\n",
    "# Using Pandas to convert html into dataframe\n",
    "df_list = pd.read_html(b)\n",
    "df = df_list[-1]\n",
    "\n",
    "\n",
    "# Rename column name to be more accessible\n",
    "df = df.rename(columns={\"Total Gross\":\"Total_gross\", \"%± LY\":\"LY\",\"#1 Release\":\"No1_release\"})\n",
    "\n",
    "# Save JSON to resources folder\n",
    "df.reset_index().to_json(\"../../Resources/box_office_scrape.json\",orient='records')\n",
    "\n",
    "\n"
   ]
  },
  {
   "cell_type": "code",
   "execution_count": 4,
   "metadata": {},
   "outputs": [],
   "source": [
    "# Create an instance of Flask\n",
    "app = Flask(__name__)\n",
    "\n",
    "# Use PyMongo to establish Mongo connection\n",
    "mongo = PyMongo(app, uri=\"mongodb://localhost:27017/cace_db\")"
   ]
  },
  {
   "cell_type": "code",
   "execution_count": 27,
   "metadata": {},
   "outputs": [],
   "source": [
    "\n"
   ]
  },
  {
   "cell_type": "code",
   "execution_count": 6,
   "metadata": {},
   "outputs": [
    {
     "name": "stdout",
     "output_type": "stream",
     "text": [
      "<pymongo.cursor.Cursor object at 0x0000020D31D16EE0>\n"
     ]
    }
   ],
   "source": [
    "# Create JSON file from Mongo\n",
    "\n",
    "conn = 'mongodb://localhost:27017'\n",
    "client = pymongo.MongoClient(conn)\n",
    "\n",
    "# Declare the database\n",
    "db = client.Cace_db\n",
    "collection = db.boxoffice.find({}, {'_id': False})\n",
    "\n",
    "print(collection)\n",
    "\n"
   ]
  },
  {
   "cell_type": "code",
   "execution_count": 7,
   "metadata": {},
   "outputs": [
    {
     "data": {
      "text/plain": [
       "'[{\"Year\": 2022, \"Total_gross\": \"$4,424,383,218\", \"LY\": \"-\", \"Releases\": 270, \"Average\": \"$16,386,604\", \"No1_release\": \"Top Gun: Maverick\"}, {\"Year\": 2021, \"Total_gross\": \"$4,488,914,150\", \"LY\": \"+113.4%\", \"Releases\": 438, \"Average\": \"$10,248,662\", \"No1_release\": \"Spider-Man: No Way Home\"}, {\"Year\": 2020, \"Total_gross\": \"$2,103,088,090\", \"LY\": \"-81.4%\", \"Releases\": 456, \"Average\": \"$4,612,035\", \"No1_release\": \"Bad Boys for Life\"}, {\"Year\": 2019, \"Total_gross\": \"$11,320,802,314\", \"LY\": \"-4.8%\", \"Releases\": 910, \"Average\": \"$12,440,442\", \"No1_release\": \"Avengers: Endgame\"}, {\"Year\": 2018, \"Total_gross\": \"$11,888,639,106\", \"LY\": \"+7.4%\", \"Releases\": 993, \"Average\": \"$11,972,446\", \"No1_release\": \"Black Panther\"}, {\"Year\": 2017, \"Total_gross\": \"$11,073,883,499\", \"LY\": \"-2.7%\", \"Releases\": 854, \"Average\": \"$12,967,076\", \"No1_release\": \"Star Wars: Episode VIII - The Last Jedi\"}, {\"Year\": 2016, \"Total_gross\": \"$11,377,012,354\", \"LY\": \"+2.3%\", \"Releases\": 855, \"Average\": \"$13,306,447\", \"No1_release\": \"Finding Dory\"}, {\"Year\": 2015, \"Total_gross\": \"$11,125,825,192\", \"LY\": \"+7.4%\", \"Releases\": 845, \"Average\": \"$13,166,657\", \"No1_release\": \"Jurassic World\"}, {\"Year\": 2014, \"Total_gross\": \"$10,359,575,749\", \"LY\": \"-5.2%\", \"Releases\": 849, \"Average\": \"$12,202,091\", \"No1_release\": \"Guardians of the Galaxy\"}, {\"Year\": 2013, \"Total_gross\": \"$10,922,051,943\", \"LY\": \"+0.9%\", \"Releases\": 826, \"Average\": \"$13,222,823\", \"No1_release\": \"Iron Man 3\"}, {\"Year\": 2012, \"Total_gross\": \"$10,822,806,722\", \"LY\": \"+6.4%\", \"Releases\": 807, \"Average\": \"$13,411,160\", \"No1_release\": \"The Avengers\"}, {\"Year\": 2011, \"Total_gross\": \"$10,175,546,301\", \"LY\": \"-3.7%\", \"Releases\": 731, \"Average\": \"$13,920,035\", \"No1_release\": \"Harry Potter and the Deathly Hallows: Part 2\"}, {\"Year\": 2010, \"Total_gross\": \"$10,566,830,616\", \"LY\": \"-0.2%\", \"Releases\": 651, \"Average\": \"$16,231,690\", \"No1_release\": \"Avatar\"}, {\"Year\": 2009, \"Total_gross\": \"$10,590,200,693\", \"LY\": \"+10%\", \"Releases\": 646, \"Average\": \"$16,393,499\", \"No1_release\": \"Transformers: Revenge of the Fallen\"}, {\"Year\": 2008, \"Total_gross\": \"$9,629,131,592\", \"LY\": \"-0.3%\", \"Releases\": 725, \"Average\": \"$13,281,560\", \"No1_release\": \"The Dark Knight\"}, {\"Year\": 2007, \"Total_gross\": \"$9,657,106,911\", \"LY\": \"+4.9%\", \"Releases\": 775, \"Average\": \"$12,460,783\", \"No1_release\": \"Spider-Man 3\"}, {\"Year\": 2006, \"Total_gross\": \"$9,208,611,128\", \"LY\": \"+4.2%\", \"Releases\": 746, \"Average\": \"$12,343,982\", \"No1_release\": \"Pirates of the Caribbean: Dead Man\\'s Chest\"}, {\"Year\": 2005, \"Total_gross\": \"$8,837,713,363\", \"LY\": \"-5.6%\", \"Releases\": 676, \"Average\": \"$13,073,540\", \"No1_release\": \"Star Wars: Episode III - Revenge of the Sith\"}, {\"Year\": 2004, \"Total_gross\": \"$9,365,047,036\", \"LY\": \"+1.7%\", \"Releases\": 700, \"Average\": \"$13,378,638\", \"No1_release\": \"Shrek 2\"}, {\"Year\": 2003, \"Total_gross\": \"$9,210,978,005\", \"LY\": \"+0.5%\", \"Releases\": 667, \"Average\": \"$13,809,562\", \"No1_release\": \"Finding Nemo\"}, {\"Year\": 2002, \"Total_gross\": \"$9,165,532,414\", \"LY\": \"+13%\", \"Releases\": 570, \"Average\": \"$16,079,881\", \"No1_release\": \"Spider-Man\"}, {\"Year\": 2001, \"Total_gross\": \"$8,110,836,104\", \"LY\": \"+8%\", \"Releases\": 412, \"Average\": \"$19,686,495\", \"No1_release\": \"Harry Potter and the Sorcerer\\'s Stone\"}, {\"Year\": 2000, \"Total_gross\": \"$7,511,547,085\", \"LY\": \"+1.8%\", \"Releases\": 439, \"Average\": \"$17,110,585\", \"No1_release\": \"How the Grinch Stole Christmas\"}, {\"Year\": 1999, \"Total_gross\": \"$7,377,967,100\", \"LY\": \"+9.7%\", \"Releases\": 448, \"Average\": \"$16,468,676\", \"No1_release\": \"Star Wars: Episode I - The Phantom Menace\"}, {\"Year\": 1998, \"Total_gross\": \"$6,725,527,166\", \"LY\": \"+9.2%\", \"Releases\": 334, \"Average\": \"$20,136,308\", \"No1_release\": \"Titanic\"}, {\"Year\": 1997, \"Total_gross\": \"$6,156,263,535\", \"LY\": \"+9%\", \"Releases\": 310, \"Average\": \"$19,858,914\", \"No1_release\": \"Men in Black\"}, {\"Year\": 1996, \"Total_gross\": \"$5,647,751,531\", \"LY\": \"+8.6%\", \"Releases\": 306, \"Average\": \"$18,456,704\", \"No1_release\": \"Independence Day\"}, {\"Year\": 1995, \"Total_gross\": \"$5,199,428,915\", \"LY\": \"+1.9%\", \"Releases\": 291, \"Average\": \"$17,867,453\", \"No1_release\": \"Batman Forever\"}, {\"Year\": 1994, \"Total_gross\": \"$5,101,025,737\", \"LY\": \"+4.9%\", \"Releases\": 259, \"Average\": \"$19,695,080\", \"No1_release\": \"The Lion King\"}, {\"Year\": 1993, \"Total_gross\": \"$4,860,902,708\", \"LY\": \"+6.7%\", \"Releases\": 267, \"Average\": \"$18,205,628\", \"No1_release\": \"Jurassic Park\"}, {\"Year\": 1992, \"Total_gross\": \"$4,556,151,332\", \"LY\": \"+4.3%\", \"Releases\": 247, \"Average\": \"$18,445,956\", \"No1_release\": \"Batman Returns\"}, {\"Year\": 1991, \"Total_gross\": \"$4,366,922,856\", \"LY\": \"<0.1%\", \"Releases\": 253, \"Average\": \"$17,260,564\", \"No1_release\": \"Terminator 2: Judgment Day\"}, {\"Year\": 1990, \"Total_gross\": \"$4,362,843,546\", \"LY\": \"+6.1%\", \"Releases\": 236, \"Average\": \"$18,486,625\", \"No1_release\": \"Ghost\"}, {\"Year\": 1989, \"Total_gross\": \"$4,111,404,298\", \"LY\": \"+15.9%\", \"Releases\": 235, \"Average\": \"$17,495,337\", \"No1_release\": \"Batman\"}, {\"Year\": 1988, \"Total_gross\": \"$3,548,516,187\", \"LY\": \"+4.4%\", \"Releases\": 239, \"Average\": \"$14,847,348\", \"No1_release\": \"Who Framed Roger Rabbit\"}, {\"Year\": 1987, \"Total_gross\": \"$3,398,925,607\", \"LY\": \"+9.5%\", \"Releases\": 226, \"Average\": \"$15,039,493\", \"No1_release\": \"Beverly Hills Cop II\"}, {\"Year\": 1986, \"Total_gross\": \"$3,102,793,651\", \"LY\": \"+2%\", \"Releases\": 201, \"Average\": \"$15,436,784\", \"No1_release\": \"Top Gun\"}, {\"Year\": 1985, \"Total_gross\": \"$3,041,480,248\", \"LY\": \"-2%\", \"Releases\": 191, \"Average\": \"$15,923,980\", \"No1_release\": \"Back to the Future\"}, {\"Year\": 1984, \"Total_gross\": \"$3,104,296,629\", \"LY\": \"+13%\", \"Releases\": 169, \"Average\": \"$18,368,619\", \"No1_release\": \"Ghostbusters\"}, {\"Year\": 1983, \"Total_gross\": \"$2,748,432,836\", \"LY\": \"-8.6%\", \"Releases\": 149, \"Average\": \"$18,445,857\", \"No1_release\": \"Star Wars: Episode VI - Return of the Jedi\"}, {\"Year\": 1982, \"Total_gross\": \"$3,008,355,492\", \"LY\": \"+227.6%\", \"Releases\": 132, \"Average\": \"$22,790,571\", \"No1_release\": \"E.T. the Extra-Terrestrial\"}, {\"Year\": 1981, \"Total_gross\": \"$918,310,755\", \"LY\": \"-44.6%\", \"Releases\": 56, \"Average\": \"$16,398,406\", \"No1_release\": \"Superman II\"}, {\"Year\": 1980, \"Total_gross\": \"$1,657,166,297\", \"LY\": \"+33.1%\", \"Releases\": 68, \"Average\": \"$24,370,092\", \"No1_release\": \"Star Wars: Episode V - The Empire Strikes Back\"}, {\"Year\": 1979, \"Total_gross\": \"$1,244,961,893\", \"LY\": \"+48.1%\", \"Releases\": 40, \"Average\": \"$31,124,047\", \"No1_release\": \"Superman\"}, {\"Year\": 1978, \"Total_gross\": \"$840,508,376\", \"LY\": \"+89.5%\", \"Releases\": 13, \"Average\": \"$64,654,490\", \"No1_release\": \"Grease\"}, {\"Year\": 1977, \"Total_gross\": \"$443,497,478\", \"LY\": \"+290.6%\", \"Releases\": 9, \"Average\": \"$49,277,497\", \"No1_release\": \"Star Wars\"}, {\"Year\": 2022, \"Total_gross\": \"$4,424,383,218\", \"LY\": \"-\", \"Releases\": 270, \"Average\": \"$16,386,604\", \"No1_release\": \"Top Gun: Maverick\"}, {\"Year\": 2021, \"Total_gross\": \"$4,488,914,150\", \"LY\": \"+113.4%\", \"Releases\": 438, \"Average\": \"$10,248,662\", \"No1_release\": \"Spider-Man: No Way Home\"}, {\"Year\": 2020, \"Total_gross\": \"$2,103,088,090\", \"LY\": \"-81.4%\", \"Releases\": 456, \"Average\": \"$4,612,035\", \"No1_release\": \"Bad Boys for Life\"}, {\"Year\": 2019, \"Total_gross\": \"$11,320,802,314\", \"LY\": \"-4.8%\", \"Releases\": 910, \"Average\": \"$12,440,442\", \"No1_release\": \"Avengers: Endgame\"}, {\"Year\": 2018, \"Total_gross\": \"$11,888,639,106\", \"LY\": \"+7.4%\", \"Releases\": 993, \"Average\": \"$11,972,446\", \"No1_release\": \"Black Panther\"}, {\"Year\": 2017, \"Total_gross\": \"$11,073,883,499\", \"LY\": \"-2.7%\", \"Releases\": 854, \"Average\": \"$12,967,076\", \"No1_release\": \"Star Wars: Episode VIII - The Last Jedi\"}, {\"Year\": 2016, \"Total_gross\": \"$11,377,012,354\", \"LY\": \"+2.3%\", \"Releases\": 855, \"Average\": \"$13,306,447\", \"No1_release\": \"Finding Dory\"}, {\"Year\": 2015, \"Total_gross\": \"$11,125,825,192\", \"LY\": \"+7.4%\", \"Releases\": 845, \"Average\": \"$13,166,657\", \"No1_release\": \"Jurassic World\"}, {\"Year\": 2014, \"Total_gross\": \"$10,359,575,749\", \"LY\": \"-5.2%\", \"Releases\": 849, \"Average\": \"$12,202,091\", \"No1_release\": \"Guardians of the Galaxy\"}, {\"Year\": 2013, \"Total_gross\": \"$10,922,051,943\", \"LY\": \"+0.9%\", \"Releases\": 826, \"Average\": \"$13,222,823\", \"No1_release\": \"Iron Man 3\"}, {\"Year\": 2012, \"Total_gross\": \"$10,822,806,722\", \"LY\": \"+6.4%\", \"Releases\": 807, \"Average\": \"$13,411,160\", \"No1_release\": \"The Avengers\"}, {\"Year\": 2011, \"Total_gross\": \"$10,175,546,301\", \"LY\": \"-3.7%\", \"Releases\": 731, \"Average\": \"$13,920,035\", \"No1_release\": \"Harry Potter and the Deathly Hallows: Part 2\"}, {\"Year\": 2010, \"Total_gross\": \"$10,566,830,616\", \"LY\": \"-0.2%\", \"Releases\": 651, \"Average\": \"$16,231,690\", \"No1_release\": \"Avatar\"}, {\"Year\": 2009, \"Total_gross\": \"$10,590,200,693\", \"LY\": \"+10%\", \"Releases\": 646, \"Average\": \"$16,393,499\", \"No1_release\": \"Transformers: Revenge of the Fallen\"}, {\"Year\": 2008, \"Total_gross\": \"$9,629,131,592\", \"LY\": \"-0.3%\", \"Releases\": 725, \"Average\": \"$13,281,560\", \"No1_release\": \"The Dark Knight\"}, {\"Year\": 2007, \"Total_gross\": \"$9,657,106,911\", \"LY\": \"+4.9%\", \"Releases\": 775, \"Average\": \"$12,460,783\", \"No1_release\": \"Spider-Man 3\"}, {\"Year\": 2006, \"Total_gross\": \"$9,208,611,128\", \"LY\": \"+4.2%\", \"Releases\": 746, \"Average\": \"$12,343,982\", \"No1_release\": \"Pirates of the Caribbean: Dead Man\\'s Chest\"}, {\"Year\": 2005, \"Total_gross\": \"$8,837,713,363\", \"LY\": \"-5.6%\", \"Releases\": 676, \"Average\": \"$13,073,540\", \"No1_release\": \"Star Wars: Episode III - Revenge of the Sith\"}, {\"Year\": 2004, \"Total_gross\": \"$9,365,047,036\", \"LY\": \"+1.7%\", \"Releases\": 700, \"Average\": \"$13,378,638\", \"No1_release\": \"Shrek 2\"}, {\"Year\": 2003, \"Total_gross\": \"$9,210,978,005\", \"LY\": \"+0.5%\", \"Releases\": 667, \"Average\": \"$13,809,562\", \"No1_release\": \"Finding Nemo\"}, {\"Year\": 2002, \"Total_gross\": \"$9,165,532,414\", \"LY\": \"+13%\", \"Releases\": 570, \"Average\": \"$16,079,881\", \"No1_release\": \"Spider-Man\"}, {\"Year\": 2001, \"Total_gross\": \"$8,110,836,104\", \"LY\": \"+8%\", \"Releases\": 412, \"Average\": \"$19,686,495\", \"No1_release\": \"Harry Potter and the Sorcerer\\'s Stone\"}, {\"Year\": 2000, \"Total_gross\": \"$7,511,547,085\", \"LY\": \"+1.8%\", \"Releases\": 439, \"Average\": \"$17,110,585\", \"No1_release\": \"How the Grinch Stole Christmas\"}, {\"Year\": 1999, \"Total_gross\": \"$7,377,967,100\", \"LY\": \"+9.7%\", \"Releases\": 448, \"Average\": \"$16,468,676\", \"No1_release\": \"Star Wars: Episode I - The Phantom Menace\"}, {\"Year\": 1998, \"Total_gross\": \"$6,725,527,166\", \"LY\": \"+9.2%\", \"Releases\": 334, \"Average\": \"$20,136,308\", \"No1_release\": \"Titanic\"}, {\"Year\": 1997, \"Total_gross\": \"$6,156,263,535\", \"LY\": \"+9%\", \"Releases\": 310, \"Average\": \"$19,858,914\", \"No1_release\": \"Men in Black\"}, {\"Year\": 1996, \"Total_gross\": \"$5,647,751,531\", \"LY\": \"+8.6%\", \"Releases\": 306, \"Average\": \"$18,456,704\", \"No1_release\": \"Independence Day\"}, {\"Year\": 1995, \"Total_gross\": \"$5,199,428,915\", \"LY\": \"+1.9%\", \"Releases\": 291, \"Average\": \"$17,867,453\", \"No1_release\": \"Batman Forever\"}, {\"Year\": 1994, \"Total_gross\": \"$5,101,025,737\", \"LY\": \"+4.9%\", \"Releases\": 259, \"Average\": \"$19,695,080\", \"No1_release\": \"The Lion King\"}, {\"Year\": 1993, \"Total_gross\": \"$4,860,902,708\", \"LY\": \"+6.7%\", \"Releases\": 267, \"Average\": \"$18,205,628\", \"No1_release\": \"Jurassic Park\"}, {\"Year\": 1992, \"Total_gross\": \"$4,556,151,332\", \"LY\": \"+4.3%\", \"Releases\": 247, \"Average\": \"$18,445,956\", \"No1_release\": \"Batman Returns\"}, {\"Year\": 1991, \"Total_gross\": \"$4,366,922,856\", \"LY\": \"<0.1%\", \"Releases\": 253, \"Average\": \"$17,260,564\", \"No1_release\": \"Terminator 2: Judgment Day\"}, {\"Year\": 1990, \"Total_gross\": \"$4,362,843,546\", \"LY\": \"+6.1%\", \"Releases\": 236, \"Average\": \"$18,486,625\", \"No1_release\": \"Ghost\"}, {\"Year\": 1989, \"Total_gross\": \"$4,111,404,298\", \"LY\": \"+15.9%\", \"Releases\": 235, \"Average\": \"$17,495,337\", \"No1_release\": \"Batman\"}, {\"Year\": 1988, \"Total_gross\": \"$3,548,516,187\", \"LY\": \"+4.4%\", \"Releases\": 239, \"Average\": \"$14,847,348\", \"No1_release\": \"Who Framed Roger Rabbit\"}, {\"Year\": 1987, \"Total_gross\": \"$3,398,925,607\", \"LY\": \"+9.5%\", \"Releases\": 226, \"Average\": \"$15,039,493\", \"No1_release\": \"Beverly Hills Cop II\"}, {\"Year\": 1986, \"Total_gross\": \"$3,102,793,651\", \"LY\": \"+2%\", \"Releases\": 201, \"Average\": \"$15,436,784\", \"No1_release\": \"Top Gun\"}, {\"Year\": 1985, \"Total_gross\": \"$3,041,480,248\", \"LY\": \"-2%\", \"Releases\": 191, \"Average\": \"$15,923,980\", \"No1_release\": \"Back to the Future\"}, {\"Year\": 1984, \"Total_gross\": \"$3,104,296,629\", \"LY\": \"+13%\", \"Releases\": 169, \"Average\": \"$18,368,619\", \"No1_release\": \"Ghostbusters\"}, {\"Year\": 1983, \"Total_gross\": \"$2,748,432,836\", \"LY\": \"-8.6%\", \"Releases\": 149, \"Average\": \"$18,445,857\", \"No1_release\": \"Star Wars: Episode VI - Return of the Jedi\"}, {\"Year\": 1982, \"Total_gross\": \"$3,008,355,492\", \"LY\": \"+227.6%\", \"Releases\": 132, \"Average\": \"$22,790,571\", \"No1_release\": \"E.T. the Extra-Terrestrial\"}, {\"Year\": 1981, \"Total_gross\": \"$918,310,755\", \"LY\": \"-44.6%\", \"Releases\": 56, \"Average\": \"$16,398,406\", \"No1_release\": \"Superman II\"}, {\"Year\": 1980, \"Total_gross\": \"$1,657,166,297\", \"LY\": \"+33.1%\", \"Releases\": 68, \"Average\": \"$24,370,092\", \"No1_release\": \"Star Wars: Episode V - The Empire Strikes Back\"}, {\"Year\": 1979, \"Total_gross\": \"$1,244,961,893\", \"LY\": \"+48.1%\", \"Releases\": 40, \"Average\": \"$31,124,047\", \"No1_release\": \"Superman\"}, {\"Year\": 1978, \"Total_gross\": \"$840,508,376\", \"LY\": \"+89.5%\", \"Releases\": 13, \"Average\": \"$64,654,490\", \"No1_release\": \"Grease\"}, {\"Year\": 1977, \"Total_gross\": \"$443,497,478\", \"LY\": \"+290.6%\", \"Releases\": 9, \"Average\": \"$49,277,497\", \"No1_release\": \"Star Wars\"}]'"
      ]
     },
     "execution_count": 7,
     "metadata": {},
     "output_type": "execute_result"
    }
   ],
   "source": [
    "from bson import json_util\n",
    "\n",
    "x = []\n",
    "\n",
    "for col in collection:\n",
    "    #print(col)\n",
    "    x.append(col)\n",
    "\n",
    "json_util.dumps(x)\n",
    "\n",
    "\n",
    "\n",
    "\n"
   ]
  },
  {
   "cell_type": "code",
   "execution_count": null,
   "metadata": {},
   "outputs": [],
   "source": [
    "cursor = collection.find({})\n",
    "with open('collection.json', 'w') as file:\n",
    "    file.write('[')\n",
    "    for document in cursor:\n",
    "        file.write(dumps(document))\n",
    "        file.write(',')\n",
    "    file.write(']')"
   ]
  },
  {
   "cell_type": "code",
   "execution_count": 37,
   "metadata": {},
   "outputs": [
    {
     "data": {
      "text/plain": [
       "<pymongo.cursor.Cursor at 0x1aed1105070>"
      ]
     },
     "execution_count": 37,
     "metadata": {},
     "output_type": "execute_result"
    }
   ],
   "source": [
    "cursor\n"
   ]
  }
 ],
 "metadata": {
  "interpreter": {
   "hash": "ad2bdc8ecc057115af97d19610ffacc2b4e99fae6737bb82f5d7fb13d2f2c186"
  },
  "kernelspec": {
   "display_name": "Python 3.9.7 ('base')",
   "language": "python",
   "name": "python3"
  },
  "language_info": {
   "codemirror_mode": {
    "name": "ipython",
    "version": 3
   },
   "file_extension": ".py",
   "mimetype": "text/x-python",
   "name": "python",
   "nbconvert_exporter": "python",
   "pygments_lexer": "ipython3",
   "version": "3.9.7"
  },
  "orig_nbformat": 4
 },
 "nbformat": 4,
 "nbformat_minor": 2
}
