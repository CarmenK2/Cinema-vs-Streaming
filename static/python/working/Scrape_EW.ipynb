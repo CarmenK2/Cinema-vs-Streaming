{
 "cells": [
  {
   "cell_type": "code",
   "execution_count": 32,
   "metadata": {},
   "outputs": [],
   "source": [
    "# import dependencies\n",
    "import pandas as pd\n",
    "import requests\n",
    "from flask import Flask, render_template, redirect\n",
    "from flask_pymongo import PyMongo\n",
    "import pymongo\n",
    "from bson.json_util import dumps"
   ]
  },
  {
   "cell_type": "markdown",
   "metadata": {},
   "source": [
    "### WEB SCRAPE YEARLY BOX OFFICE\n",
    "Get the number of releases per year and their average box office"
   ]
  },
  {
   "cell_type": "code",
   "execution_count": 11,
   "metadata": {},
   "outputs": [],
   "source": [
    "#Scrape usign request to get html of page\n",
    "page = requests.get('https://www.boxofficemojo.com/year/?ref_=bo_nb_di_secondarytab')\n",
    "b = page.content\n",
    "\n",
    "# Using Pandas to convert html into dataframe\n",
    "df_list = pd.read_html(b)\n",
    "df = df_list[-1]\n",
    "\n",
    "\n",
    "# Rename column name to be more accessible\n",
    "df = df.rename(columns={\"Total Gross\":\"Total_gross\", \"%± LY\":\"LY\",\"#1 Release\":\"No1_release\"})\n",
    "\n",
    "# Save JSON to resources folder\n",
    "df.reset_index().to_json(\"../../Resources/box_office_scrape.json\",orient='records')\n",
    "\n",
    "\n"
   ]
  },
  {
   "cell_type": "code",
   "execution_count": 7,
   "metadata": {},
   "outputs": [],
   "source": [
    "# Create an instance of Flask\n",
    "app = Flask(__name__)\n",
    "\n",
    "# Use PyMongo to establish Mongo connection\n",
    "mongo = PyMongo(app, uri=\"mongodb://localhost:27017/cace_db\")"
   ]
  },
  {
   "cell_type": "code",
   "execution_count": 27,
   "metadata": {},
   "outputs": [],
   "source": [
    "\n",
    "\n"
   ]
  },
  {
   "cell_type": "code",
   "execution_count": 34,
   "metadata": {},
   "outputs": [
    {
     "name": "stdout",
     "output_type": "stream",
     "text": [
      "92\n"
     ]
    },
    {
     "name": "stderr",
     "output_type": "stream",
     "text": [
      "C:\\Users\\edber\\AppData\\Local\\Temp/ipykernel_25492/861757653.py:1: DeprecationWarning: count is deprecated. Use estimated_document_count or count_documents instead. Please note that $where must be replaced by $expr, $near must be replaced by $geoWithin with $center, and $nearSphere must be replaced by $geoWithin with $centerSphere\n",
      "  print(db.boxoffice.count())\n"
     ]
    }
   ],
   "source": [
    "# Create JSON file from Mongo\n",
    "\n",
    "conn = 'mongodb://localhost:27017'\n",
    "client = pymongo.MongoClient(conn)\n",
    "\n",
    "# Declare the database\n",
    "db = client.Cace_db\n",
    "collection = db.boxoffice\n",
    "cursor = collection.find({})\n",
    "with open('collection.json', 'w') as file:\n",
    "    file.write('[')\n",
    "    for document in cursor:\n",
    "        file.write(dumps(document))\n",
    "        file.write(',')\n",
    "    file.write(']')\n",
    "\n",
    "##with open(\"output.json\", \"w\") as outfile:\n",
    "##    json.dump(dictionary, outfile)"
   ]
  },
  {
   "cell_type": "code",
   "execution_count": 37,
   "metadata": {},
   "outputs": [
    {
     "data": {
      "text/plain": [
       "<pymongo.cursor.Cursor at 0x1aed1105070>"
      ]
     },
     "execution_count": 37,
     "metadata": {},
     "output_type": "execute_result"
    }
   ],
   "source": [
    "cursor\n"
   ]
  }
 ],
 "metadata": {
  "interpreter": {
   "hash": "ad2bdc8ecc057115af97d19610ffacc2b4e99fae6737bb82f5d7fb13d2f2c186"
  },
  "kernelspec": {
   "display_name": "Python 3.9.7 ('base')",
   "language": "python",
   "name": "python3"
  },
  "language_info": {
   "codemirror_mode": {
    "name": "ipython",
    "version": 3
   },
   "file_extension": ".py",
   "mimetype": "text/x-python",
   "name": "python",
   "nbconvert_exporter": "python",
   "pygments_lexer": "ipython3",
   "version": "3.9.7"
  },
  "orig_nbformat": 4
 },
 "nbformat": 4,
 "nbformat_minor": 2
}
