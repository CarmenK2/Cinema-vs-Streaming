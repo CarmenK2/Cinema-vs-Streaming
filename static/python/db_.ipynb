{
 "cells": [
  {
   "cell_type": "code",
   "execution_count": 1,
   "metadata": {},
   "outputs": [],
   "source": [
    "# import dependencies\n",
    "import pandas as pd\n",
    "import pymongo\n",
    "import etl_"
   ]
  },
  {
   "cell_type": "code",
   "execution_count": 2,
   "metadata": {},
   "outputs": [],
   "source": [
    "# The default port used by MongoDB is 27017\n",
    "# https://docs.mongodb.com/manual/reference/default-mongodb-port/\n",
    "conn = 'mongodb://localhost:27017'\n",
    "client = pymongo.MongoClient(conn)\n",
    "\n",
    "# Declare the database\n",
    "db = client.Cace_db"
   ]
  },
  {
   "cell_type": "code",
   "execution_count": 3,
   "metadata": {},
   "outputs": [],
   "source": [
    "#Grab dataframes from our resources\n",
    "df_boxoffice = etl_.scrape_boxoffice()\n",
    "df_cinemadata = etl_.df_Cinemadata()\n",
    "df_nextflixsubs = etl_.df_Nextlixsubs()\n",
    "df_streamingfee = etl_.df_Streamingfee()\n",
    "df_cinema1948 = etl_.df_Cinema1948()\n",
    "df_cinema2022 = etl_.df_Cinema2022()"
   ]
  },
  {
   "cell_type": "code",
   "execution_count": 4,
   "metadata": {},
   "outputs": [],
   "source": [
    "# Clearn up netflixsubs dataframe \n",
    "df_boxoffice = pd.merge(df_boxoffice,df_nextflixsubs, on=\"Year\")\n"
   ]
  },
  {
   "cell_type": "code",
   "execution_count": 5,
   "metadata": {},
   "outputs": [
    {
     "data": {
      "text/plain": [
       "<pymongo.results.InsertManyResult at 0x279887e51c0>"
      ]
     },
     "execution_count": 5,
     "metadata": {},
     "output_type": "execute_result"
    }
   ],
   "source": [
    "# Declare the collection & Insert\n",
    "db.boxoffice.insert_many(df_boxoffice.to_dict('records'))\n",
    "db.cinemadata.insert_many(df_cinemadata.to_dict('records'))\n",
    "db.nextflixsubs.insert_many(df_nextflixsubs.to_dict('records'))\n",
    "db.streamingfee.insert_many(df_streamingfee.to_dict('records'))\n",
    "db.cinema1948.insert_many(df_cinema1948.to_dict('records'))\n",
    "db.cinema2022.insert_many(df_cinema2022.to_dict('records'))"
   ]
  }
 ],
 "metadata": {
  "kernelspec": {
   "display_name": "Python 3.9.7 ('base')",
   "language": "python",
   "name": "python3"
  },
  "language_info": {
   "codemirror_mode": {
    "name": "ipython",
    "version": 3
   },
   "file_extension": ".py",
   "mimetype": "text/x-python",
   "name": "python",
   "nbconvert_exporter": "python",
   "pygments_lexer": "ipython3",
   "version": "3.9.7"
  },
  "orig_nbformat": 4,
  "vscode": {
   "interpreter": {
    "hash": "bfc8d4cd213c73d0951fb72b86f932efa3ad70cb474a83d8183214743f73be4e"
   }
  }
 },
 "nbformat": 4,
 "nbformat_minor": 2
}
