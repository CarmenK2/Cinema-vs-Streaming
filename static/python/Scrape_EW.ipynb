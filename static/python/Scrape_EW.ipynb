{
 "cells": [
  {
   "cell_type": "code",
   "execution_count": 2,
   "metadata": {},
   "outputs": [],
   "source": [
    "# import dependencies\n",
    "import pandas as pd\n",
    "import requests"
   ]
  },
  {
   "cell_type": "markdown",
   "metadata": {},
   "source": [
    "### WEB SCRAPE YEARLY BOX OFFICE\n",
    "Get the number of releases per year and their average box office"
   ]
  },
  {
   "cell_type": "code",
   "execution_count": 4,
   "metadata": {},
   "outputs": [],
   "source": [
    "#Scrape usign request to get html of page\n",
    "page = requests.get('https://www.boxofficemojo.com/year/?ref_=bo_nb_di_secondarytab')\n",
    "b = page.content\n",
    "\n",
    "# Using Pandas to convert html into dataframe\n",
    "df_list = pd.read_html(b)\n",
    "df = df_list[-1]\n",
    "\n",
    "# Save JSON to resources folder\n",
    "df.to_json(\"../../Resources/box_office_scrape.json\")\n",
    "\n",
    "\n"
   ]
  }
 ],
 "metadata": {
  "interpreter": {
   "hash": "ad2bdc8ecc057115af97d19610ffacc2b4e99fae6737bb82f5d7fb13d2f2c186"
  },
  "kernelspec": {
   "display_name": "Python 3.9.7 ('base')",
   "language": "python",
   "name": "python3"
  },
  "language_info": {
   "codemirror_mode": {
    "name": "ipython",
    "version": 3
   },
   "file_extension": ".py",
   "mimetype": "text/x-python",
   "name": "python",
   "nbconvert_exporter": "python",
   "pygments_lexer": "ipython3",
   "version": "3.9.7"
  },
  "orig_nbformat": 4
 },
 "nbformat": 4,
 "nbformat_minor": 2
}
